{
 "cells": [
  {
   "cell_type": "code",
   "execution_count": 1,
   "id": "d4b0da1d",
   "metadata": {
    "execution": {
     "iopub.execute_input": "2025-07-02T06:41:21.339666Z",
     "iopub.status.busy": "2025-07-02T06:41:21.339110Z",
     "iopub.status.idle": "2025-07-02T06:41:24.820627Z",
     "shell.execute_reply": "2025-07-02T06:41:24.820032Z"
    },
    "papermill": {
     "duration": 3.489358,
     "end_time": "2025-07-02T06:41:24.821991",
     "exception": false,
     "start_time": "2025-07-02T06:41:21.332633",
     "status": "completed"
    },
    "tags": []
   },
   "outputs": [
    {
     "name": "stderr",
     "output_type": "stream",
     "text": [
      "c:\\Users\\Mohammed\\anaconda3\\lib\\site-packages\\scipy\\__init__.py:138: UserWarning: A NumPy version >=1.16.5 and <1.23.0 is required for this version of SciPy (detected version 1.24.4)\n",
      "  warnings.warn(f\"A NumPy version >={np_minversion} and <{np_maxversion} is required for this version of \"\n"
     ]
    }
   ],
   "source": [
    "import numpy as np\n",
    "import pandas as pd\n",
    "import matplotlib.pyplot as plt\n",
    "import seaborn as sns\n",
    "import plotly.express as px"
   ]
  },
  {
   "cell_type": "code",
   "execution_count": 2,
   "id": "02b13e5c",
   "metadata": {
    "execution": {
     "iopub.execute_input": "2025-07-02T06:41:24.833000Z",
     "iopub.status.busy": "2025-07-02T06:41:24.832440Z",
     "iopub.status.idle": "2025-07-02T06:41:24.947520Z",
     "shell.execute_reply": "2025-07-02T06:41:24.946979Z"
    },
    "papermill": {
     "duration": 0.121694,
     "end_time": "2025-07-02T06:41:24.948894",
     "exception": false,
     "start_time": "2025-07-02T06:41:24.827200",
     "status": "completed"
    },
    "tags": []
   },
   "outputs": [],
   "source": [
    "df = pd.read_csv('NYC_Weather_2016_2022.csv')"
   ]
  },
  {
   "cell_type": "code",
   "execution_count": 3,
   "id": "e8916863",
   "metadata": {
    "execution": {
     "iopub.execute_input": "2025-07-02T06:41:24.959223Z",
     "iopub.status.busy": "2025-07-02T06:41:24.959004Z",
     "iopub.status.idle": "2025-07-02T06:41:24.983097Z",
     "shell.execute_reply": "2025-07-02T06:41:24.982331Z"
    },
    "papermill": {
     "duration": 0.03038,
     "end_time": "2025-07-02T06:41:24.984249",
     "exception": false,
     "start_time": "2025-07-02T06:41:24.953869",
     "status": "completed"
    },
    "tags": []
   },
   "outputs": [
    {
     "data": {
      "text/html": [
       "<div>\n",
       "<style scoped>\n",
       "    .dataframe tbody tr th:only-of-type {\n",
       "        vertical-align: middle;\n",
       "    }\n",
       "\n",
       "    .dataframe tbody tr th {\n",
       "        vertical-align: top;\n",
       "    }\n",
       "\n",
       "    .dataframe thead th {\n",
       "        text-align: right;\n",
       "    }\n",
       "</style>\n",
       "<table border=\"1\" class=\"dataframe\">\n",
       "  <thead>\n",
       "    <tr style=\"text-align: right;\">\n",
       "      <th></th>\n",
       "      <th>time</th>\n",
       "      <th>temperature_2m (°C)</th>\n",
       "      <th>precipitation (mm)</th>\n",
       "      <th>rain (mm)</th>\n",
       "      <th>cloudcover (%)</th>\n",
       "      <th>cloudcover_low (%)</th>\n",
       "      <th>cloudcover_mid (%)</th>\n",
       "      <th>cloudcover_high (%)</th>\n",
       "      <th>windspeed_10m (km/h)</th>\n",
       "      <th>winddirection_10m (°)</th>\n",
       "    </tr>\n",
       "  </thead>\n",
       "  <tbody>\n",
       "    <tr>\n",
       "      <th>0</th>\n",
       "      <td>2016-01-01T00:00</td>\n",
       "      <td>7.6</td>\n",
       "      <td>0.0</td>\n",
       "      <td>0.0</td>\n",
       "      <td>69.0</td>\n",
       "      <td>53.0</td>\n",
       "      <td>0.0</td>\n",
       "      <td>72.0</td>\n",
       "      <td>10.0</td>\n",
       "      <td>296.0</td>\n",
       "    </tr>\n",
       "    <tr>\n",
       "      <th>1</th>\n",
       "      <td>2016-01-01T01:00</td>\n",
       "      <td>7.5</td>\n",
       "      <td>0.0</td>\n",
       "      <td>0.0</td>\n",
       "      <td>20.0</td>\n",
       "      <td>4.0</td>\n",
       "      <td>0.0</td>\n",
       "      <td>56.0</td>\n",
       "      <td>9.8</td>\n",
       "      <td>287.0</td>\n",
       "    </tr>\n",
       "    <tr>\n",
       "      <th>2</th>\n",
       "      <td>2016-01-01T02:00</td>\n",
       "      <td>7.1</td>\n",
       "      <td>0.0</td>\n",
       "      <td>0.0</td>\n",
       "      <td>32.0</td>\n",
       "      <td>3.0</td>\n",
       "      <td>0.0</td>\n",
       "      <td>99.0</td>\n",
       "      <td>9.7</td>\n",
       "      <td>285.0</td>\n",
       "    </tr>\n",
       "    <tr>\n",
       "      <th>3</th>\n",
       "      <td>2016-01-01T03:00</td>\n",
       "      <td>6.6</td>\n",
       "      <td>0.0</td>\n",
       "      <td>0.0</td>\n",
       "      <td>35.0</td>\n",
       "      <td>5.0</td>\n",
       "      <td>0.0</td>\n",
       "      <td>100.0</td>\n",
       "      <td>9.2</td>\n",
       "      <td>281.0</td>\n",
       "    </tr>\n",
       "    <tr>\n",
       "      <th>4</th>\n",
       "      <td>2016-01-01T04:00</td>\n",
       "      <td>6.3</td>\n",
       "      <td>0.0</td>\n",
       "      <td>0.0</td>\n",
       "      <td>34.0</td>\n",
       "      <td>4.0</td>\n",
       "      <td>0.0</td>\n",
       "      <td>100.0</td>\n",
       "      <td>9.1</td>\n",
       "      <td>279.0</td>\n",
       "    </tr>\n",
       "  </tbody>\n",
       "</table>\n",
       "</div>"
      ],
      "text/plain": [
       "               time  temperature_2m (°C)  precipitation (mm)  rain (mm)  \\\n",
       "0  2016-01-01T00:00                  7.6                 0.0        0.0   \n",
       "1  2016-01-01T01:00                  7.5                 0.0        0.0   \n",
       "2  2016-01-01T02:00                  7.1                 0.0        0.0   \n",
       "3  2016-01-01T03:00                  6.6                 0.0        0.0   \n",
       "4  2016-01-01T04:00                  6.3                 0.0        0.0   \n",
       "\n",
       "   cloudcover (%)  cloudcover_low (%)  cloudcover_mid (%)  \\\n",
       "0            69.0                53.0                 0.0   \n",
       "1            20.0                 4.0                 0.0   \n",
       "2            32.0                 3.0                 0.0   \n",
       "3            35.0                 5.0                 0.0   \n",
       "4            34.0                 4.0                 0.0   \n",
       "\n",
       "   cloudcover_high (%)  windspeed_10m (km/h)  winddirection_10m (°)  \n",
       "0                 72.0                  10.0                  296.0  \n",
       "1                 56.0                   9.8                  287.0  \n",
       "2                 99.0                   9.7                  285.0  \n",
       "3                100.0                   9.2                  281.0  \n",
       "4                100.0                   9.1                  279.0  "
      ]
     },
     "execution_count": 3,
     "metadata": {},
     "output_type": "execute_result"
    }
   ],
   "source": [
    "df.head()"
   ]
  },
  {
   "cell_type": "code",
   "execution_count": 4,
   "id": "ba9a366f",
   "metadata": {
    "execution": {
     "iopub.execute_input": "2025-07-02T06:41:24.994354Z",
     "iopub.status.busy": "2025-07-02T06:41:24.994155Z",
     "iopub.status.idle": "2025-07-02T06:41:25.017179Z",
     "shell.execute_reply": "2025-07-02T06:41:25.016457Z"
    },
    "papermill": {
     "duration": 0.029133,
     "end_time": "2025-07-02T06:41:25.018137",
     "exception": false,
     "start_time": "2025-07-02T06:41:24.989004",
     "status": "completed"
    },
    "tags": []
   },
   "outputs": [
    {
     "name": "stdout",
     "output_type": "stream",
     "text": [
      "<class 'pandas.core.frame.DataFrame'>\n",
      "RangeIndex: 59760 entries, 0 to 59759\n",
      "Data columns (total 10 columns):\n",
      " #   Column                 Non-Null Count  Dtype  \n",
      "---  ------                 --------------  -----  \n",
      " 0   time                   59760 non-null  object \n",
      " 1   temperature_2m (°C)    59592 non-null  float64\n",
      " 2   precipitation (mm)     59592 non-null  float64\n",
      " 3   rain (mm)              59592 non-null  float64\n",
      " 4   cloudcover (%)         59592 non-null  float64\n",
      " 5   cloudcover_low (%)     59592 non-null  float64\n",
      " 6   cloudcover_mid (%)     59592 non-null  float64\n",
      " 7   cloudcover_high (%)    59592 non-null  float64\n",
      " 8   windspeed_10m (km/h)   59592 non-null  float64\n",
      " 9   winddirection_10m (°)  59587 non-null  float64\n",
      "dtypes: float64(9), object(1)\n",
      "memory usage: 4.6+ MB\n"
     ]
    }
   ],
   "source": [
    "df.info()"
   ]
  },
  {
   "cell_type": "markdown",
   "id": "fe347fec",
   "metadata": {
    "papermill": {
     "duration": 0.004635,
     "end_time": "2025-07-02T06:41:25.027793",
     "exception": false,
     "start_time": "2025-07-02T06:41:25.023158",
     "status": "completed"
    },
    "tags": []
   },
   "source": [
    "Converting time to be datetime"
   ]
  },
  {
   "cell_type": "code",
   "execution_count": 5,
   "id": "0e2c7b87",
   "metadata": {
    "execution": {
     "iopub.execute_input": "2025-07-02T06:41:25.038201Z",
     "iopub.status.busy": "2025-07-02T06:41:25.037992Z",
     "iopub.status.idle": "2025-07-02T06:41:25.055656Z",
     "shell.execute_reply": "2025-07-02T06:41:25.055170Z"
    },
    "papermill": {
     "duration": 0.023851,
     "end_time": "2025-07-02T06:41:25.056669",
     "exception": false,
     "start_time": "2025-07-02T06:41:25.032818",
     "status": "completed"
    },
    "tags": []
   },
   "outputs": [],
   "source": [
    "df['time'] = pd.to_datetime(df['time'])"
   ]
  },
  {
   "cell_type": "markdown",
   "id": "39ca63a4",
   "metadata": {
    "papermill": {
     "duration": 0.004521,
     "end_time": "2025-07-02T06:41:25.066089",
     "exception": false,
     "start_time": "2025-07-02T06:41:25.061568",
     "status": "completed"
    },
    "tags": []
   },
   "source": [
    "Firstly, worked with time, and let's continue on it"
   ]
  },
  {
   "cell_type": "code",
   "execution_count": 6,
   "id": "77b82a51",
   "metadata": {
    "execution": {
     "iopub.execute_input": "2025-07-02T06:41:25.079994Z",
     "iopub.status.busy": "2025-07-02T06:41:25.079443Z",
     "iopub.status.idle": "2025-07-02T06:41:25.124994Z",
     "shell.execute_reply": "2025-07-02T06:41:25.123885Z"
    },
    "papermill": {
     "duration": 0.055607,
     "end_time": "2025-07-02T06:41:25.127085",
     "exception": false,
     "start_time": "2025-07-02T06:41:25.071478",
     "status": "completed"
    },
    "tags": []
   },
   "outputs": [],
   "source": [
    "df['year'] = df['time'].dt.year\n",
    "df['month'] = df['time'].dt.month_name()\n",
    "df['day'] = df['time'].dt.day_name()\n",
    "df['quarter'] = df['time'].dt.quarter"
   ]
  },
  {
   "cell_type": "code",
   "execution_count": 7,
   "id": "d01e909d",
   "metadata": {
    "execution": {
     "iopub.execute_input": "2025-07-02T06:41:25.138993Z",
     "iopub.status.busy": "2025-07-02T06:41:25.138795Z",
     "iopub.status.idle": "2025-07-02T06:41:25.155579Z",
     "shell.execute_reply": "2025-07-02T06:41:25.154970Z"
    },
    "papermill": {
     "duration": 0.023907,
     "end_time": "2025-07-02T06:41:25.156779",
     "exception": false,
     "start_time": "2025-07-02T06:41:25.132872",
     "status": "completed"
    },
    "tags": []
   },
   "outputs": [
    {
     "data": {
      "text/html": [
       "<div>\n",
       "<style scoped>\n",
       "    .dataframe tbody tr th:only-of-type {\n",
       "        vertical-align: middle;\n",
       "    }\n",
       "\n",
       "    .dataframe tbody tr th {\n",
       "        vertical-align: top;\n",
       "    }\n",
       "\n",
       "    .dataframe thead th {\n",
       "        text-align: right;\n",
       "    }\n",
       "</style>\n",
       "<table border=\"1\" class=\"dataframe\">\n",
       "  <thead>\n",
       "    <tr style=\"text-align: right;\">\n",
       "      <th></th>\n",
       "      <th>time</th>\n",
       "      <th>temperature_2m (°C)</th>\n",
       "      <th>precipitation (mm)</th>\n",
       "      <th>rain (mm)</th>\n",
       "      <th>cloudcover (%)</th>\n",
       "      <th>cloudcover_low (%)</th>\n",
       "      <th>cloudcover_mid (%)</th>\n",
       "      <th>cloudcover_high (%)</th>\n",
       "      <th>windspeed_10m (km/h)</th>\n",
       "      <th>winddirection_10m (°)</th>\n",
       "      <th>year</th>\n",
       "      <th>month</th>\n",
       "      <th>day</th>\n",
       "      <th>quarter</th>\n",
       "    </tr>\n",
       "  </thead>\n",
       "  <tbody>\n",
       "    <tr>\n",
       "      <th>55958</th>\n",
       "      <td>2022-05-20 14:00:00</td>\n",
       "      <td>15.7</td>\n",
       "      <td>0.0</td>\n",
       "      <td>0.0</td>\n",
       "      <td>41.0</td>\n",
       "      <td>4.0</td>\n",
       "      <td>13.0</td>\n",
       "      <td>97.0</td>\n",
       "      <td>8.0</td>\n",
       "      <td>333.0</td>\n",
       "      <td>2022</td>\n",
       "      <td>May</td>\n",
       "      <td>Friday</td>\n",
       "      <td>2</td>\n",
       "    </tr>\n",
       "    <tr>\n",
       "      <th>3207</th>\n",
       "      <td>2016-05-13 15:00:00</td>\n",
       "      <td>17.8</td>\n",
       "      <td>0.0</td>\n",
       "      <td>0.0</td>\n",
       "      <td>100.0</td>\n",
       "      <td>98.0</td>\n",
       "      <td>97.0</td>\n",
       "      <td>96.0</td>\n",
       "      <td>7.9</td>\n",
       "      <td>156.0</td>\n",
       "      <td>2016</td>\n",
       "      <td>May</td>\n",
       "      <td>Friday</td>\n",
       "      <td>2</td>\n",
       "    </tr>\n",
       "  </tbody>\n",
       "</table>\n",
       "</div>"
      ],
      "text/plain": [
       "                     time  temperature_2m (°C)  precipitation (mm)  rain (mm)  \\\n",
       "55958 2022-05-20 14:00:00                 15.7                 0.0        0.0   \n",
       "3207  2016-05-13 15:00:00                 17.8                 0.0        0.0   \n",
       "\n",
       "       cloudcover (%)  cloudcover_low (%)  cloudcover_mid (%)  \\\n",
       "55958            41.0                 4.0                13.0   \n",
       "3207            100.0                98.0                97.0   \n",
       "\n",
       "       cloudcover_high (%)  windspeed_10m (km/h)  winddirection_10m (°)  year  \\\n",
       "55958                 97.0                   8.0                  333.0  2022   \n",
       "3207                  96.0                   7.9                  156.0  2016   \n",
       "\n",
       "      month     day  quarter  \n",
       "55958   May  Friday        2  \n",
       "3207    May  Friday        2  "
      ]
     },
     "execution_count": 7,
     "metadata": {},
     "output_type": "execute_result"
    }
   ],
   "source": [
    "df.sample(2)"
   ]
  },
  {
   "cell_type": "markdown",
   "id": "f12f8c0e",
   "metadata": {
    "papermill": {
     "duration": 0.004718,
     "end_time": "2025-07-02T06:41:25.167359",
     "exception": false,
     "start_time": "2025-07-02T06:41:25.162641",
     "status": "completed"
    },
    "tags": []
   },
   "source": [
    "Working with parquet file"
   ]
  },
  {
   "cell_type": "code",
   "execution_count": 8,
   "id": "cabc8729",
   "metadata": {
    "execution": {
     "iopub.execute_input": "2025-07-02T06:41:25.178499Z",
     "iopub.status.busy": "2025-07-02T06:41:25.178064Z",
     "iopub.status.idle": "2025-07-02T06:41:26.645000Z",
     "shell.execute_reply": "2025-07-02T06:41:26.644373Z"
    },
    "papermill": {
     "duration": 1.473848,
     "end_time": "2025-07-02T06:41:26.646255",
     "exception": false,
     "start_time": "2025-07-02T06:41:25.172407",
     "status": "completed"
    },
    "tags": []
   },
   "outputs": [],
   "source": [
    "df_yellow = pd.read_parquet(\"yellow_tripdata_2025-03.parquet\")"
   ]
  },
  {
   "cell_type": "code",
   "execution_count": 9,
   "id": "10c55938",
   "metadata": {
    "execution": {
     "iopub.execute_input": "2025-07-02T06:41:26.658078Z",
     "iopub.status.busy": "2025-07-02T06:41:26.657886Z",
     "iopub.status.idle": "2025-07-02T06:41:26.782315Z",
     "shell.execute_reply": "2025-07-02T06:41:26.781395Z"
    },
    "papermill": {
     "duration": 0.131769,
     "end_time": "2025-07-02T06:41:26.783403",
     "exception": false,
     "start_time": "2025-07-02T06:41:26.651634",
     "status": "completed"
    },
    "tags": []
   },
   "outputs": [
    {
     "data": {
      "text/html": [
       "<div>\n",
       "<style scoped>\n",
       "    .dataframe tbody tr th:only-of-type {\n",
       "        vertical-align: middle;\n",
       "    }\n",
       "\n",
       "    .dataframe tbody tr th {\n",
       "        vertical-align: top;\n",
       "    }\n",
       "\n",
       "    .dataframe thead th {\n",
       "        text-align: right;\n",
       "    }\n",
       "</style>\n",
       "<table border=\"1\" class=\"dataframe\">\n",
       "  <thead>\n",
       "    <tr style=\"text-align: right;\">\n",
       "      <th></th>\n",
       "      <th>VendorID</th>\n",
       "      <th>tpep_pickup_datetime</th>\n",
       "      <th>tpep_dropoff_datetime</th>\n",
       "      <th>passenger_count</th>\n",
       "      <th>trip_distance</th>\n",
       "      <th>RatecodeID</th>\n",
       "      <th>store_and_fwd_flag</th>\n",
       "      <th>PULocationID</th>\n",
       "      <th>DOLocationID</th>\n",
       "      <th>payment_type</th>\n",
       "      <th>fare_amount</th>\n",
       "      <th>extra</th>\n",
       "      <th>mta_tax</th>\n",
       "      <th>tip_amount</th>\n",
       "      <th>tolls_amount</th>\n",
       "      <th>improvement_surcharge</th>\n",
       "      <th>total_amount</th>\n",
       "      <th>congestion_surcharge</th>\n",
       "      <th>Airport_fee</th>\n",
       "      <th>cbd_congestion_fee</th>\n",
       "    </tr>\n",
       "  </thead>\n",
       "  <tbody>\n",
       "    <tr>\n",
       "      <th>4111214</th>\n",
       "      <td>2</td>\n",
       "      <td>2025-03-30 19:11:56</td>\n",
       "      <td>2025-03-30 19:39:49</td>\n",
       "      <td>NaN</td>\n",
       "      <td>5.24</td>\n",
       "      <td>NaN</td>\n",
       "      <td>None</td>\n",
       "      <td>143</td>\n",
       "      <td>148</td>\n",
       "      <td>0</td>\n",
       "      <td>34.64</td>\n",
       "      <td>0.0</td>\n",
       "      <td>0.5</td>\n",
       "      <td>0.0</td>\n",
       "      <td>0.0</td>\n",
       "      <td>1.0</td>\n",
       "      <td>39.39</td>\n",
       "      <td>NaN</td>\n",
       "      <td>NaN</td>\n",
       "      <td>0.75</td>\n",
       "    </tr>\n",
       "    <tr>\n",
       "      <th>1456993</th>\n",
       "      <td>2</td>\n",
       "      <td>2025-03-14 20:23:46</td>\n",
       "      <td>2025-03-14 20:27:33</td>\n",
       "      <td>1.0</td>\n",
       "      <td>1.31</td>\n",
       "      <td>1.0</td>\n",
       "      <td>N</td>\n",
       "      <td>74</td>\n",
       "      <td>75</td>\n",
       "      <td>1</td>\n",
       "      <td>7.20</td>\n",
       "      <td>1.0</td>\n",
       "      <td>0.5</td>\n",
       "      <td>0.0</td>\n",
       "      <td>0.0</td>\n",
       "      <td>1.0</td>\n",
       "      <td>9.70</td>\n",
       "      <td>0.0</td>\n",
       "      <td>0.0</td>\n",
       "      <td>0.00</td>\n",
       "    </tr>\n",
       "  </tbody>\n",
       "</table>\n",
       "</div>"
      ],
      "text/plain": [
       "         VendorID tpep_pickup_datetime tpep_dropoff_datetime  passenger_count  \\\n",
       "4111214         2  2025-03-30 19:11:56   2025-03-30 19:39:49              NaN   \n",
       "1456993         2  2025-03-14 20:23:46   2025-03-14 20:27:33              1.0   \n",
       "\n",
       "         trip_distance  RatecodeID store_and_fwd_flag  PULocationID  \\\n",
       "4111214           5.24         NaN               None           143   \n",
       "1456993           1.31         1.0                  N            74   \n",
       "\n",
       "         DOLocationID  payment_type  fare_amount  extra  mta_tax  tip_amount  \\\n",
       "4111214           148             0        34.64    0.0      0.5         0.0   \n",
       "1456993            75             1         7.20    1.0      0.5         0.0   \n",
       "\n",
       "         tolls_amount  improvement_surcharge  total_amount  \\\n",
       "4111214           0.0                    1.0         39.39   \n",
       "1456993           0.0                    1.0          9.70   \n",
       "\n",
       "         congestion_surcharge  Airport_fee  cbd_congestion_fee  \n",
       "4111214                   NaN          NaN                0.75  \n",
       "1456993                   0.0          0.0                0.00  "
      ]
     },
     "execution_count": 9,
     "metadata": {},
     "output_type": "execute_result"
    }
   ],
   "source": [
    "df_yellow.sample(2)"
   ]
  },
  {
   "cell_type": "code",
   "execution_count": 10,
   "id": "c0f727c4",
   "metadata": {
    "execution": {
     "iopub.execute_input": "2025-07-02T06:41:26.795134Z",
     "iopub.status.busy": "2025-07-02T06:41:26.794458Z",
     "iopub.status.idle": "2025-07-02T06:41:26.802190Z",
     "shell.execute_reply": "2025-07-02T06:41:26.801411Z"
    },
    "papermill": {
     "duration": 0.014423,
     "end_time": "2025-07-02T06:41:26.803243",
     "exception": false,
     "start_time": "2025-07-02T06:41:26.788820",
     "status": "completed"
    },
    "tags": []
   },
   "outputs": [
    {
     "name": "stdout",
     "output_type": "stream",
     "text": [
      "<class 'pandas.core.frame.DataFrame'>\n",
      "RangeIndex: 4145257 entries, 0 to 4145256\n",
      "Data columns (total 20 columns):\n",
      " #   Column                 Dtype         \n",
      "---  ------                 -----         \n",
      " 0   VendorID               int32         \n",
      " 1   tpep_pickup_datetime   datetime64[us]\n",
      " 2   tpep_dropoff_datetime  datetime64[us]\n",
      " 3   passenger_count        float64       \n",
      " 4   trip_distance          float64       \n",
      " 5   RatecodeID             float64       \n",
      " 6   store_and_fwd_flag     object        \n",
      " 7   PULocationID           int32         \n",
      " 8   DOLocationID           int32         \n",
      " 9   payment_type           int64         \n",
      " 10  fare_amount            float64       \n",
      " 11  extra                  float64       \n",
      " 12  mta_tax                float64       \n",
      " 13  tip_amount             float64       \n",
      " 14  tolls_amount           float64       \n",
      " 15  improvement_surcharge  float64       \n",
      " 16  total_amount           float64       \n",
      " 17  congestion_surcharge   float64       \n",
      " 18  Airport_fee            float64       \n",
      " 19  cbd_congestion_fee     float64       \n",
      "dtypes: datetime64[us](2), float64(13), int32(3), int64(1), object(1)\n",
      "memory usage: 585.1+ MB\n"
     ]
    }
   ],
   "source": [
    "df_yellow.info()"
   ]
  },
  {
   "cell_type": "markdown",
   "id": "47a5e8ed",
   "metadata": {
    "papermill": {
     "duration": 0.004918,
     "end_time": "2025-07-02T06:41:26.813250",
     "exception": false,
     "start_time": "2025-07-02T06:41:26.808332",
     "status": "completed"
    },
    "tags": []
   },
   "source": [
    "As we can see when we use df.info() can't see the column about non-null count **The reason: cuz using very wide DataFrame and pandas truncating the output for display**"
   ]
  },
  {
   "cell_type": "code",
   "execution_count": 11,
   "id": "d445e9c3",
   "metadata": {
    "execution": {
     "iopub.execute_input": "2025-07-02T06:41:26.824044Z",
     "iopub.status.busy": "2025-07-02T06:41:26.823692Z",
     "iopub.status.idle": "2025-07-02T06:41:27.540429Z",
     "shell.execute_reply": "2025-07-02T06:41:27.539539Z"
    },
    "papermill": {
     "duration": 0.723723,
     "end_time": "2025-07-02T06:41:27.541920",
     "exception": false,
     "start_time": "2025-07-02T06:41:26.818197",
     "status": "completed"
    },
    "tags": []
   },
   "outputs": [
    {
     "data": {
      "text/html": [
       "<div>\n",
       "<style scoped>\n",
       "    .dataframe tbody tr th:only-of-type {\n",
       "        vertical-align: middle;\n",
       "    }\n",
       "\n",
       "    .dataframe tbody tr th {\n",
       "        vertical-align: top;\n",
       "    }\n",
       "\n",
       "    .dataframe thead th {\n",
       "        text-align: right;\n",
       "    }\n",
       "</style>\n",
       "<table border=\"1\" class=\"dataframe\">\n",
       "  <thead>\n",
       "    <tr style=\"text-align: right;\">\n",
       "      <th></th>\n",
       "      <th>non_null</th>\n",
       "      <th>null</th>\n",
       "      <th>dtype</th>\n",
       "    </tr>\n",
       "  </thead>\n",
       "  <tbody>\n",
       "    <tr>\n",
       "      <th>VendorID</th>\n",
       "      <td>4145257</td>\n",
       "      <td>0</td>\n",
       "      <td>int32</td>\n",
       "    </tr>\n",
       "    <tr>\n",
       "      <th>tpep_pickup_datetime</th>\n",
       "      <td>4145257</td>\n",
       "      <td>0</td>\n",
       "      <td>datetime64[us]</td>\n",
       "    </tr>\n",
       "    <tr>\n",
       "      <th>tpep_dropoff_datetime</th>\n",
       "      <td>4145257</td>\n",
       "      <td>0</td>\n",
       "      <td>datetime64[us]</td>\n",
       "    </tr>\n",
       "    <tr>\n",
       "      <th>passenger_count</th>\n",
       "      <td>3228594</td>\n",
       "      <td>916663</td>\n",
       "      <td>float64</td>\n",
       "    </tr>\n",
       "    <tr>\n",
       "      <th>trip_distance</th>\n",
       "      <td>4145257</td>\n",
       "      <td>0</td>\n",
       "      <td>float64</td>\n",
       "    </tr>\n",
       "    <tr>\n",
       "      <th>RatecodeID</th>\n",
       "      <td>3228594</td>\n",
       "      <td>916663</td>\n",
       "      <td>float64</td>\n",
       "    </tr>\n",
       "    <tr>\n",
       "      <th>store_and_fwd_flag</th>\n",
       "      <td>3228594</td>\n",
       "      <td>916663</td>\n",
       "      <td>object</td>\n",
       "    </tr>\n",
       "    <tr>\n",
       "      <th>PULocationID</th>\n",
       "      <td>4145257</td>\n",
       "      <td>0</td>\n",
       "      <td>int32</td>\n",
       "    </tr>\n",
       "    <tr>\n",
       "      <th>DOLocationID</th>\n",
       "      <td>4145257</td>\n",
       "      <td>0</td>\n",
       "      <td>int32</td>\n",
       "    </tr>\n",
       "    <tr>\n",
       "      <th>payment_type</th>\n",
       "      <td>4145257</td>\n",
       "      <td>0</td>\n",
       "      <td>int64</td>\n",
       "    </tr>\n",
       "    <tr>\n",
       "      <th>fare_amount</th>\n",
       "      <td>4145257</td>\n",
       "      <td>0</td>\n",
       "      <td>float64</td>\n",
       "    </tr>\n",
       "    <tr>\n",
       "      <th>extra</th>\n",
       "      <td>4145257</td>\n",
       "      <td>0</td>\n",
       "      <td>float64</td>\n",
       "    </tr>\n",
       "    <tr>\n",
       "      <th>mta_tax</th>\n",
       "      <td>4145257</td>\n",
       "      <td>0</td>\n",
       "      <td>float64</td>\n",
       "    </tr>\n",
       "    <tr>\n",
       "      <th>tip_amount</th>\n",
       "      <td>4145257</td>\n",
       "      <td>0</td>\n",
       "      <td>float64</td>\n",
       "    </tr>\n",
       "    <tr>\n",
       "      <th>tolls_amount</th>\n",
       "      <td>4145257</td>\n",
       "      <td>0</td>\n",
       "      <td>float64</td>\n",
       "    </tr>\n",
       "    <tr>\n",
       "      <th>improvement_surcharge</th>\n",
       "      <td>4145257</td>\n",
       "      <td>0</td>\n",
       "      <td>float64</td>\n",
       "    </tr>\n",
       "    <tr>\n",
       "      <th>total_amount</th>\n",
       "      <td>4145257</td>\n",
       "      <td>0</td>\n",
       "      <td>float64</td>\n",
       "    </tr>\n",
       "    <tr>\n",
       "      <th>congestion_surcharge</th>\n",
       "      <td>3228594</td>\n",
       "      <td>916663</td>\n",
       "      <td>float64</td>\n",
       "    </tr>\n",
       "    <tr>\n",
       "      <th>Airport_fee</th>\n",
       "      <td>3228594</td>\n",
       "      <td>916663</td>\n",
       "      <td>float64</td>\n",
       "    </tr>\n",
       "    <tr>\n",
       "      <th>cbd_congestion_fee</th>\n",
       "      <td>4145257</td>\n",
       "      <td>0</td>\n",
       "      <td>float64</td>\n",
       "    </tr>\n",
       "  </tbody>\n",
       "</table>\n",
       "</div>"
      ],
      "text/plain": [
       "                       non_null    null           dtype\n",
       "VendorID                4145257       0           int32\n",
       "tpep_pickup_datetime    4145257       0  datetime64[us]\n",
       "tpep_dropoff_datetime   4145257       0  datetime64[us]\n",
       "passenger_count         3228594  916663         float64\n",
       "trip_distance           4145257       0         float64\n",
       "RatecodeID              3228594  916663         float64\n",
       "store_and_fwd_flag      3228594  916663          object\n",
       "PULocationID            4145257       0           int32\n",
       "DOLocationID            4145257       0           int32\n",
       "payment_type            4145257       0           int64\n",
       "fare_amount             4145257       0         float64\n",
       "extra                   4145257       0         float64\n",
       "mta_tax                 4145257       0         float64\n",
       "tip_amount              4145257       0         float64\n",
       "tolls_amount            4145257       0         float64\n",
       "improvement_surcharge   4145257       0         float64\n",
       "total_amount            4145257       0         float64\n",
       "congestion_surcharge    3228594  916663         float64\n",
       "Airport_fee             3228594  916663         float64\n",
       "cbd_congestion_fee      4145257       0         float64"
      ]
     },
     "execution_count": 11,
     "metadata": {},
     "output_type": "execute_result"
    }
   ],
   "source": [
    "#Summary for it\n",
    "summary = pd.DataFrame({\n",
    "    'non_null':df_yellow.notnull().sum(),\n",
    "    'null':df_yellow.isnull().sum(),\n",
    "    'dtype':df_yellow.dtypes,\n",
    "})\n",
    "summary"
   ]
  },
  {
   "cell_type": "code",
   "execution_count": 12,
   "id": "4dd2f239",
   "metadata": {
    "execution": {
     "iopub.execute_input": "2025-07-02T06:41:27.556899Z",
     "iopub.status.busy": "2025-07-02T06:41:27.556340Z",
     "iopub.status.idle": "2025-07-02T06:41:27.843366Z",
     "shell.execute_reply": "2025-07-02T06:41:27.842388Z"
    },
    "papermill": {
     "duration": 0.295892,
     "end_time": "2025-07-02T06:41:27.844612",
     "exception": false,
     "start_time": "2025-07-02T06:41:27.548720",
     "status": "completed"
    },
    "tags": []
   },
   "outputs": [],
   "source": [
    "#set null values as the default value of 0\n",
    "df_yellow['Airport_fee'].fillna(0,inplace=True)\n",
    "df_yellow['congestion_surcharge'].fillna(0,inplace=True)\n",
    "df_yellow['store_and_fwd_flag'].fillna(0,inplace=True)\n",
    "df_yellow['RatecodeID'].fillna(0,inplace=True)\n",
    "df_yellow['passenger_count'].fillna(0,inplace=True)"
   ]
  },
  {
   "cell_type": "code",
   "execution_count": 13,
   "id": "0cb05fea",
   "metadata": {
    "execution": {
     "iopub.execute_input": "2025-07-02T06:41:27.856564Z",
     "iopub.status.busy": "2025-07-02T06:41:27.856343Z",
     "iopub.status.idle": "2025-07-02T06:41:28.238905Z",
     "shell.execute_reply": "2025-07-02T06:41:28.238242Z"
    },
    "papermill": {
     "duration": 0.389628,
     "end_time": "2025-07-02T06:41:28.240059",
     "exception": false,
     "start_time": "2025-07-02T06:41:27.850431",
     "status": "completed"
    },
    "tags": []
   },
   "outputs": [
    {
     "data": {
      "text/plain": [
       "VendorID                 0\n",
       "tpep_pickup_datetime     0\n",
       "tpep_dropoff_datetime    0\n",
       "passenger_count          0\n",
       "trip_distance            0\n",
       "RatecodeID               0\n",
       "store_and_fwd_flag       0\n",
       "PULocationID             0\n",
       "DOLocationID             0\n",
       "payment_type             0\n",
       "fare_amount              0\n",
       "extra                    0\n",
       "mta_tax                  0\n",
       "tip_amount               0\n",
       "tolls_amount             0\n",
       "improvement_surcharge    0\n",
       "total_amount             0\n",
       "congestion_surcharge     0\n",
       "Airport_fee              0\n",
       "cbd_congestion_fee       0\n",
       "dtype: int64"
      ]
     },
     "execution_count": 13,
     "metadata": {},
     "output_type": "execute_result"
    }
   ],
   "source": [
    "df_yellow.isnull().sum()"
   ]
  },
  {
   "cell_type": "code",
   "execution_count": 14,
   "id": "fd929011",
   "metadata": {
    "execution": {
     "iopub.execute_input": "2025-07-02T06:41:28.252316Z",
     "iopub.status.busy": "2025-07-02T06:41:28.251936Z",
     "iopub.status.idle": "2025-07-02T06:41:28.256181Z",
     "shell.execute_reply": "2025-07-02T06:41:28.255714Z"
    },
    "papermill": {
     "duration": 0.011353,
     "end_time": "2025-07-02T06:41:28.257186",
     "exception": false,
     "start_time": "2025-07-02T06:41:28.245833",
     "status": "completed"
    },
    "tags": []
   },
   "outputs": [
    {
     "data": {
      "text/plain": [
       "Index(['VendorID', 'tpep_pickup_datetime', 'tpep_dropoff_datetime',\n",
       "       'passenger_count', 'trip_distance', 'RatecodeID', 'store_and_fwd_flag',\n",
       "       'PULocationID', 'DOLocationID', 'payment_type', 'fare_amount', 'extra',\n",
       "       'mta_tax', 'tip_amount', 'tolls_amount', 'improvement_surcharge',\n",
       "       'total_amount', 'congestion_surcharge', 'Airport_fee',\n",
       "       'cbd_congestion_fee'],\n",
       "      dtype='object')"
      ]
     },
     "execution_count": 14,
     "metadata": {},
     "output_type": "execute_result"
    }
   ],
   "source": [
    "df_yellow.columns"
   ]
  },
  {
   "cell_type": "code",
   "execution_count": 15,
   "id": "3077a933",
   "metadata": {
    "execution": {
     "iopub.execute_input": "2025-07-02T06:41:28.268905Z",
     "iopub.status.busy": "2025-07-02T06:41:28.268723Z",
     "iopub.status.idle": "2025-07-02T06:41:28.356749Z",
     "shell.execute_reply": "2025-07-02T06:41:28.356195Z"
    },
    "papermill": {
     "duration": 0.095281,
     "end_time": "2025-07-02T06:41:28.358121",
     "exception": false,
     "start_time": "2025-07-02T06:41:28.262840",
     "status": "completed"
    },
    "tags": []
   },
   "outputs": [],
   "source": [
    "#trip duration in minutes\n",
    "df_yellow['trip_duration_min'] = (df_yellow['tpep_dropoff_datetime'] - df_yellow['tpep_pickup_datetime']).dt.total_seconds() / 60"
   ]
  },
  {
   "cell_type": "markdown",
   "id": "c2afec09",
   "metadata": {
    "papermill": {
     "duration": 0.005567,
     "end_time": "2025-07-02T06:41:28.370381",
     "exception": false,
     "start_time": "2025-07-02T06:41:28.364814",
     "status": "completed"
    },
    "tags": []
   },
   "source": [
    "trip duration"
   ]
  },
  {
   "cell_type": "code",
   "execution_count": 16,
   "id": "c7974cc9",
   "metadata": {
    "execution": {
     "iopub.execute_input": "2025-07-02T06:41:28.382178Z",
     "iopub.status.busy": "2025-07-02T06:41:28.381953Z",
     "iopub.status.idle": "2025-07-02T06:41:28.796529Z",
     "shell.execute_reply": "2025-07-02T06:41:28.795830Z"
    },
    "papermill": {
     "duration": 0.422299,
     "end_time": "2025-07-02T06:41:28.798177",
     "exception": false,
     "start_time": "2025-07-02T06:41:28.375878",
     "status": "completed"
    },
    "tags": []
   },
   "outputs": [
    {
     "data": {
      "text/plain": [
       "passenger_count\n",
       "1.0    2569487\n",
       "2.0     442696\n",
       "3.0     100511\n",
       "4.0      64214\n",
       "5.0      18616\n",
       "6.0      10342\n",
       "7.0          4\n",
       "8.0          7\n",
       "9.0          2\n",
       "Name: count, dtype: int64"
      ]
     },
     "execution_count": 16,
     "metadata": {},
     "output_type": "execute_result"
    }
   ],
   "source": [
    "#Don't show missing data as we do as default value\n",
    "df_yellow[df_yellow['passenger_count'] != 0]['passenger_count'].value_counts().sort_index()"
   ]
  },
  {
   "cell_type": "markdown",
   "id": "5cc70cbe",
   "metadata": {
    "papermill": {
     "duration": 0.005722,
     "end_time": "2025-07-02T06:41:28.810658",
     "exception": false,
     "start_time": "2025-07-02T06:41:28.804936",
     "status": "completed"
    },
    "tags": []
   },
   "source": [
    "trip distance"
   ]
  },
  {
   "cell_type": "code",
   "execution_count": 17,
   "id": "81a8ee0e",
   "metadata": {
    "execution": {
     "iopub.execute_input": "2025-07-02T06:41:28.823545Z",
     "iopub.status.busy": "2025-07-02T06:41:28.822891Z",
     "iopub.status.idle": "2025-07-02T06:41:29.415041Z",
     "shell.execute_reply": "2025-07-02T06:41:29.414228Z"
    },
    "papermill": {
     "duration": 0.60005,
     "end_time": "2025-07-02T06:41:29.416497",
     "exception": false,
     "start_time": "2025-07-02T06:41:28.816447",
     "status": "completed"
    },
    "tags": []
   },
   "outputs": [
    {
     "data": {
      "text/plain": [
       "count    4.041535e+06\n",
       "mean     6.753074e+00\n",
       "std      6.343938e+02\n",
       "min      1.000000e-02\n",
       "25%      1.090000e+00\n",
       "50%      1.840000e+00\n",
       "75%      3.500000e+00\n",
       "max      3.201363e+05\n",
       "Name: trip_distance, dtype: float64"
      ]
     },
     "execution_count": 17,
     "metadata": {},
     "output_type": "execute_result"
    }
   ],
   "source": [
    "df_distance = df_yellow[df_yellow['trip_distance'] != 0]\n",
    "df_distance['trip_distance'].describe()"
   ]
  },
  {
   "cell_type": "markdown",
   "id": "f6c99d3e",
   "metadata": {
    "papermill": {
     "duration": 0.005933,
     "end_time": "2025-07-02T06:41:29.429059",
     "exception": false,
     "start_time": "2025-07-02T06:41:29.423126",
     "status": "completed"
    },
    "tags": []
   },
   "source": [
    "Fare amount"
   ]
  },
  {
   "cell_type": "code",
   "execution_count": 18,
   "id": "18b73c69",
   "metadata": {
    "execution": {
     "iopub.execute_input": "2025-07-02T06:41:29.442054Z",
     "iopub.status.busy": "2025-07-02T06:41:29.441347Z",
     "iopub.status.idle": "2025-07-02T06:41:30.077400Z",
     "shell.execute_reply": "2025-07-02T06:41:30.076658Z"
    },
    "papermill": {
     "duration": 0.643664,
     "end_time": "2025-07-02T06:41:30.078562",
     "exception": false,
     "start_time": "2025-07-02T06:41:29.434898",
     "status": "completed"
    },
    "tags": []
   },
   "outputs": [
    {
     "data": {
      "text/plain": [
       "count    4.143603e+06\n",
       "mean     1.780745e+01\n",
       "std      2.910508e+01\n",
       "min     -9.990000e+02\n",
       "25%      8.600000e+00\n",
       "50%      1.350000e+01\n",
       "75%      2.127000e+01\n",
       "max      4.626388e+04\n",
       "Name: fare_amount, dtype: float64"
      ]
     },
     "execution_count": 18,
     "metadata": {},
     "output_type": "execute_result"
    }
   ],
   "source": [
    "df_fare = df_yellow[df_yellow['fare_amount'] != 0]\n",
    "df_fare['fare_amount'].describe()\n"
   ]
  },
  {
   "cell_type": "code",
   "execution_count": 19,
   "id": "89267089",
   "metadata": {
    "execution": {
     "iopub.execute_input": "2025-07-02T06:41:30.093055Z",
     "iopub.status.busy": "2025-07-02T06:41:30.092403Z",
     "iopub.status.idle": "2025-07-02T06:41:30.925948Z",
     "shell.execute_reply": "2025-07-02T06:41:30.925207Z"
    },
    "papermill": {
     "duration": 0.841721,
     "end_time": "2025-07-02T06:41:30.927090",
     "exception": false,
     "start_time": "2025-07-02T06:41:30.085369",
     "status": "completed"
    },
    "tags": []
   },
   "outputs": [
    {
     "data": {
      "image/png": "[encoded data removed]",
      "text/plain": [
       "<Figure size 432x288 with 1 Axes>"
      ]
     },
     "metadata": {
      "needs_background": "light"
     },
     "output_type": "display_data"
    }
   ],
   "source": [
    "# Exclude zero passenger rides\n",
    "df_passenger = df_yellow[df_yellow['passenger_count'] != 0]\n",
    "\n",
    "sns.countplot(data=df_passenger, x='passenger_count')\n",
    "plt.title(\"Passenger Count Distribution (Excluding 0)\")\n",
    "plt.xlabel(\"Passenger Count\")\n",
    "plt.ylabel(\"Frequency\")\n",
    "plt.show()"
   ]
  },
  {
   "cell_type": "code",
   "execution_count": 20,
   "id": "7ebc8fe8",
   "metadata": {
    "execution": {
     "iopub.execute_input": "2025-07-02T06:41:30.940847Z",
     "iopub.status.busy": "2025-07-02T06:41:30.940627Z",
     "iopub.status.idle": "2025-07-02T06:41:32.274946Z",
     "shell.execute_reply": "2025-07-02T06:41:32.274215Z"
    },
    "papermill": {
     "duration": 1.342484,
     "end_time": "2025-07-02T06:41:32.276153",
     "exception": false,
     "start_time": "2025-07-02T06:41:30.933669",
     "status": "completed"
    },
    "tags": []
   },
   "outputs": [
    {
     "data": {
      "image/png": "[encoded data removed]",
      "text/plain": [
       "<Figure size 432x288 with 1 Axes>"
      ]
     },
     "metadata": {
      "needs_background": "light"
     },
     "output_type": "display_data"
    }
   ],
   "source": [
    "df_fare = df_yellow[df_yellow['fare_amount'] != 0]\n",
    "\n",
    "sns.boxplot(x=df_fare['fare_amount'])\n",
    "plt.title(\"Fare Amount Boxplot (Excluding 0)\")\n",
    "plt.xlim(0, 100)  # Optional: limit outliers\n",
    "plt.show()\n"
   ]
  },
  {
   "cell_type": "code",
   "execution_count": 22,
   "id": "fbc6aae6",
   "metadata": {
    "execution": {
     "iopub.execute_input": "2025-07-02T06:41:47.984336Z",
     "iopub.status.busy": "2025-07-02T06:41:47.983788Z",
     "iopub.status.idle": "2025-07-02T06:41:49.523526Z",
     "shell.execute_reply": "2025-07-02T06:41:49.522910Z"
    },
    "papermill": {
     "duration": 1.548851,
     "end_time": "2025-07-02T06:41:49.524769",
     "exception": false,
     "start_time": "2025-07-02T06:41:47.975918",
     "status": "completed"
    },
    "tags": []
   },
   "outputs": [
    {
     "data": {
      "image/png": "[encoded data removed]",
      "text/plain": [
       "<Figure size 432x288 with 1 Axes>"
      ]
     },
     "metadata": {
      "needs_background": "light"
     },
     "output_type": "display_data"
    }
   ],
   "source": [
    "df_total = df_yellow[df_yellow['total_amount'] > 0]\n",
    "\n",
    "sns.boxplot(data=df_total, x='payment_type', y='total_amount')\n",
    "plt.title(\"Total Amount by Payment Type (Excluding 0)\")\n",
    "plt.ylim(0, 100)\n",
    "plt.show()\n"
   ]
  },
  {
   "cell_type": "code",
   "execution_count": 23,
   "id": "8e9daad7",
   "metadata": {
    "execution": {
     "iopub.execute_input": "2025-07-02T06:41:49.541305Z",
     "iopub.status.busy": "2025-07-02T06:41:49.540760Z",
     "iopub.status.idle": "2025-07-02T06:41:49.554188Z",
     "shell.execute_reply": "2025-07-02T06:41:49.553493Z"
    },
    "papermill": {
     "duration": 0.022848,
     "end_time": "2025-07-02T06:41:49.555279",
     "exception": false,
     "start_time": "2025-07-02T06:41:49.532431",
     "status": "completed"
    },
    "tags": []
   },
   "outputs": [],
   "source": [
    "df_zones = pd.read_csv('taxi_zone_lookup.csv')"
   ]
  },
  {
   "cell_type": "code",
   "execution_count": 24,
   "id": "c5fa00b7",
   "metadata": {
    "execution": {
     "iopub.execute_input": "2025-07-02T06:41:49.570252Z",
     "iopub.status.busy": "2025-07-02T06:41:49.570026Z",
     "iopub.status.idle": "2025-07-02T06:41:50.970098Z",
     "shell.execute_reply": "2025-07-02T06:41:50.969288Z"
    },
    "papermill": {
     "duration": 1.409124,
     "end_time": "2025-07-02T06:41:50.971647",
     "exception": false,
     "start_time": "2025-07-02T06:41:49.562523",
     "status": "completed"
    },
    "tags": []
   },
   "outputs": [],
   "source": [
    "df_yellow = df_yellow.merge(df_zones, left_on='PULocationID', right_on='LocationID', how='left')\n",
    "df_yellow.rename(columns={'Borough': 'pickup_borough', 'Zone': 'pickup_zone'}, inplace=True)\n",
    "df_yellow.drop(columns=['service_zone'], inplace=True)"
   ]
  },
  {
   "cell_type": "code",
   "execution_count": 25,
   "id": "83ab98cf",
   "metadata": {
    "execution": {
     "iopub.execute_input": "2025-07-02T06:41:50.987724Z",
     "iopub.status.busy": "2025-07-02T06:41:50.987482Z",
     "iopub.status.idle": "2025-07-02T06:41:51.109719Z",
     "shell.execute_reply": "2025-07-02T06:41:51.108997Z"
    },
    "papermill": {
     "duration": 0.131607,
     "end_time": "2025-07-02T06:41:51.111009",
     "exception": false,
     "start_time": "2025-07-02T06:41:50.979402",
     "status": "completed"
    },
    "tags": []
   },
   "outputs": [
    {
     "data": {
      "text/html": [
       "<div>\n",
       "<style scoped>\n",
       "    .dataframe tbody tr th:only-of-type {\n",
       "        vertical-align: middle;\n",
       "    }\n",
       "\n",
       "    .dataframe tbody tr th {\n",
       "        vertical-align: top;\n",
       "    }\n",
       "\n",
       "    .dataframe thead th {\n",
       "        text-align: right;\n",
       "    }\n",
       "</style>\n",
       "<table border=\"1\" class=\"dataframe\">\n",
       "  <thead>\n",
       "    <tr style=\"text-align: right;\">\n",
       "      <th></th>\n",
       "      <th>VendorID</th>\n",
       "      <th>tpep_pickup_datetime</th>\n",
       "      <th>tpep_dropoff_datetime</th>\n",
       "      <th>passenger_count</th>\n",
       "      <th>trip_distance</th>\n",
       "      <th>RatecodeID</th>\n",
       "      <th>store_and_fwd_flag</th>\n",
       "      <th>PULocationID</th>\n",
       "      <th>DOLocationID</th>\n",
       "      <th>payment_type</th>\n",
       "      <th>...</th>\n",
       "      <th>tolls_amount</th>\n",
       "      <th>improvement_surcharge</th>\n",
       "      <th>total_amount</th>\n",
       "      <th>congestion_surcharge</th>\n",
       "      <th>Airport_fee</th>\n",
       "      <th>cbd_congestion_fee</th>\n",
       "      <th>trip_duration_min</th>\n",
       "      <th>LocationID</th>\n",
       "      <th>pickup_borough</th>\n",
       "      <th>pickup_zone</th>\n",
       "    </tr>\n",
       "  </thead>\n",
       "  <tbody>\n",
       "    <tr>\n",
       "      <th>445653</th>\n",
       "      <td>2</td>\n",
       "      <td>2025-03-05 13:30:06</td>\n",
       "      <td>2025-03-05 13:35:01</td>\n",
       "      <td>1.0</td>\n",
       "      <td>0.55</td>\n",
       "      <td>1.0</td>\n",
       "      <td>N</td>\n",
       "      <td>249</td>\n",
       "      <td>249</td>\n",
       "      <td>1</td>\n",
       "      <td>...</td>\n",
       "      <td>0.0</td>\n",
       "      <td>1.0</td>\n",
       "      <td>13.25</td>\n",
       "      <td>2.5</td>\n",
       "      <td>0.0</td>\n",
       "      <td>0.75</td>\n",
       "      <td>4.916667</td>\n",
       "      <td>249</td>\n",
       "      <td>Manhattan</td>\n",
       "      <td>West Village</td>\n",
       "    </tr>\n",
       "    <tr>\n",
       "      <th>3268563</th>\n",
       "      <td>2</td>\n",
       "      <td>2025-03-01 22:49:09</td>\n",
       "      <td>2025-03-01 22:59:23</td>\n",
       "      <td>0.0</td>\n",
       "      <td>0.72</td>\n",
       "      <td>0.0</td>\n",
       "      <td>0</td>\n",
       "      <td>4</td>\n",
       "      <td>148</td>\n",
       "      <td>0</td>\n",
       "      <td>...</td>\n",
       "      <td>0.0</td>\n",
       "      <td>1.0</td>\n",
       "      <td>15.20</td>\n",
       "      <td>0.0</td>\n",
       "      <td>0.0</td>\n",
       "      <td>0.75</td>\n",
       "      <td>10.233333</td>\n",
       "      <td>4</td>\n",
       "      <td>Manhattan</td>\n",
       "      <td>Alphabet City</td>\n",
       "    </tr>\n",
       "  </tbody>\n",
       "</table>\n",
       "<p>2 rows × 24 columns</p>\n",
       "</div>"
      ],
      "text/plain": [
       "         VendorID tpep_pickup_datetime tpep_dropoff_datetime  passenger_count  \\\n",
       "445653          2  2025-03-05 13:30:06   2025-03-05 13:35:01              1.0   \n",
       "3268563         2  2025-03-01 22:49:09   2025-03-01 22:59:23              0.0   \n",
       "\n",
       "         trip_distance  RatecodeID store_and_fwd_flag  PULocationID  \\\n",
       "445653            0.55         1.0                  N           249   \n",
       "3268563           0.72         0.0                  0             4   \n",
       "\n",
       "         DOLocationID  payment_type  ...  tolls_amount  improvement_surcharge  \\\n",
       "445653            249             1  ...           0.0                    1.0   \n",
       "3268563           148             0  ...           0.0                    1.0   \n",
       "\n",
       "         total_amount  congestion_surcharge  Airport_fee  cbd_congestion_fee  \\\n",
       "445653          13.25                   2.5          0.0                0.75   \n",
       "3268563         15.20                   0.0          0.0                0.75   \n",
       "\n",
       "         trip_duration_min  LocationID  pickup_borough    pickup_zone  \n",
       "445653            4.916667         249       Manhattan   West Village  \n",
       "3268563          10.233333           4       Manhattan  Alphabet City  \n",
       "\n",
       "[2 rows x 24 columns]"
      ]
     },
     "execution_count": 25,
     "metadata": {},
     "output_type": "execute_result"
    }
   ],
   "source": [
    "df_yellow.sample(2)"
   ]
  },
  {
   "cell_type": "markdown",
   "id": "8de8278c",
   "metadata": {
    "papermill": {
     "duration": 0.007325,
     "end_time": "2025-07-02T06:41:51.126050",
     "exception": false,
     "start_time": "2025-07-02T06:41:51.118725",
     "status": "completed"
    },
    "tags": []
   },
   "source": [
    "**Top Pickup Boroughs**"
   ]
  },
  {
   "cell_type": "code",
   "execution_count": 26,
   "id": "4d3341f3",
   "metadata": {
    "execution": {
     "iopub.execute_input": "2025-07-02T06:41:51.186734Z",
     "iopub.status.busy": "2025-07-02T06:41:51.186072Z",
     "iopub.status.idle": "2025-07-02T06:41:51.531659Z",
     "shell.execute_reply": "2025-07-02T06:41:51.530888Z"
    },
    "papermill": {
     "duration": 0.355405,
     "end_time": "2025-07-02T06:41:51.532862",
     "exception": false,
     "start_time": "2025-07-02T06:41:51.177457",
     "status": "completed"
    },
    "tags": []
   },
   "outputs": [
    {
     "data": {
      "image/png": "[encoded data removed]",
      "text/plain": [
       "<Figure size 432x288 with 1 Axes>"
      ]
     },
     "metadata": {
      "needs_background": "light"
     },
     "output_type": "display_data"
    }
   ],
   "source": [
    "pickup_borough_counts = df_yellow['pickup_borough'].value_counts()\n",
    "\n",
    "sns.barplot(x=pickup_borough_counts.index, y=pickup_borough_counts.values)\n",
    "plt.title(\"Number of Pickups by Borough\")\n",
    "plt.xlabel(\"Pickup Borough\")\n",
    "plt.ylabel(\"Number of Pickups\")\n",
    "plt.xticks(rotation=45)\n",
    "plt.tight_layout()\n",
    "plt.show()"
   ]
  },
  {
   "cell_type": "markdown",
   "id": "2338ce9b",
   "metadata": {
    "papermill": {
     "duration": 0.00775,
     "end_time": "2025-07-02T06:41:51.549417",
     "exception": false,
     "start_time": "2025-07-02T06:41:51.541667",
     "status": "completed"
    },
    "tags": []
   },
   "source": [
    "**Top 15 Pickup Zones**"
   ]
  },
  {
   "cell_type": "code",
   "execution_count": 27,
   "id": "500f5d4a",
   "metadata": {
    "execution": {
     "iopub.execute_input": "2025-07-02T06:41:51.566272Z",
     "iopub.status.busy": "2025-07-02T06:41:51.566052Z",
     "iopub.status.idle": "2025-07-02T06:41:51.966858Z",
     "shell.execute_reply": "2025-07-02T06:41:51.966252Z"
    },
    "papermill": {
     "duration": 0.410686,
     "end_time": "2025-07-02T06:41:51.968122",
     "exception": false,
     "start_time": "2025-07-02T06:41:51.557436",
     "status": "completed"
    },
    "tags": []
   },
   "outputs": [
    {
     "data": {
      "image/png": "[encoded data removed]",
      "text/plain": [
       "<Figure size 432x288 with 1 Axes>"
      ]
     },
     "metadata": {
      "needs_background": "light"
     },
     "output_type": "display_data"
    }
   ],
   "source": [
    "top_zones = df_yellow['pickup_zone'].value_counts().head(15)\n",
    "\n",
    "sns.barplot(y=top_zones.index, x=top_zones.values)\n",
    "plt.title(\"Top 15 Pickup Zones\")\n",
    "plt.xlabel(\"Number of Pickups\")\n",
    "plt.ylabel(\"Pickup Zone\")\n",
    "plt.tight_layout()\n",
    "plt.show()"
   ]
  },
  {
   "cell_type": "markdown",
   "id": "444d848d",
   "metadata": {
    "papermill": {
     "duration": 0.008673,
     "end_time": "2025-07-02T06:41:51.986035",
     "exception": false,
     "start_time": "2025-07-02T06:41:51.977362",
     "status": "completed"
    },
    "tags": []
   },
   "source": [
    "**Hourly Demand for Top Pickup Zones**"
   ]
  },
  {
   "cell_type": "code",
   "execution_count": 28,
   "id": "d455d04b",
   "metadata": {
    "execution": {
     "iopub.execute_input": "2025-07-02T06:41:52.004485Z",
     "iopub.status.busy": "2025-07-02T06:41:52.003945Z",
     "iopub.status.idle": "2025-07-02T06:41:53.012771Z",
     "shell.execute_reply": "2025-07-02T06:41:53.012033Z"
    },
    "papermill": {
     "duration": 1.019514,
     "end_time": "2025-07-02T06:41:53.014184",
     "exception": false,
     "start_time": "2025-07-02T06:41:51.994670",
     "status": "completed"
    },
    "tags": []
   },
   "outputs": [
    {
     "data": {
      "image/png": "[encoded data removed]",
      "text/plain": [
       "<Figure size 432x288 with 1 Axes>"
      ]
     },
     "metadata": {
      "needs_background": "light"
     },
     "output_type": "display_data"
    }
   ],
   "source": [
    "# Extract hour from pickup time\n",
    "df_yellow['hour'] = df_yellow['tpep_pickup_datetime'].dt.hour\n",
    "\n",
    "# Top 5 zones overall\n",
    "top5_zones = df_yellow['pickup_zone'].value_counts().head(5).index\n",
    "\n",
    "# Filter only those zones\n",
    "df_top_zones = df_yellow[df_yellow['pickup_zone'].isin(top5_zones)]\n",
    "\n",
    "# Group by zone and hour\n",
    "zone_hour = df_top_zones.groupby(['pickup_zone', 'hour']).size().reset_index(name='count')\n",
    "\n",
    "sns.lineplot(data=zone_hour, x='hour', y='count', hue='pickup_zone')\n",
    "plt.title(\"Hourly Ride Demand for Top 5 Pickup Zones\")\n",
    "plt.xlabel(\"Hour of Day\")\n",
    "plt.ylabel(\"Number of Pickups\")\n",
    "plt.xticks(range(0, 24))\n",
    "plt.grid(True)\n",
    "plt.tight_layout()\n",
    "plt.show()"
   ]
  },
  {
   "cell_type": "code",
   "execution_count": null,
   "id": "2d0571de",
   "metadata": {
    "papermill": {
     "duration": 0.012267,
     "end_time": "2025-07-02T06:41:53.039045",
     "exception": false,
     "start_time": "2025-07-02T06:41:53.026778",
     "status": "completed"
    },
    "tags": []
   },
   "outputs": [],
   "source": []
  }
 ],
 "metadata": {
  "kaggle": {
   "accelerator": "gpu",
   "dataSources": [
    {
     "datasetId": 7724994,
     "sourceId": 12260017,
     "sourceType": "datasetVersion"
    }
   ],
   "dockerImageVersionId": 31041,
   "isGpuEnabled": true,
   "isInternetEnabled": true,
   "language": "python",
   "sourceType": "notebook"
  },
  "kernelspec": {
   "display_name": "base",
   "language": "python",
   "name": "python3"
  },
  "language_info": {
   "codemirror_mode": {
    "name": "ipython",
    "version": 3
   },
   "file_extension": ".py",
   "mimetype": "text/x-python",
   "name": "python",
   "nbconvert_exporter": "python",
   "pygments_lexer": "ipython3",
   "version": "3.8.8"
  },
  "papermill": {
   "default_parameters": {},
   "duration": 36.332525,
   "end_time": "2025-07-02T06:41:53.667257",
   "environment_variables": {},
   "exception": null,
   "input_path": "__notebook__.ipynb",
   "output_path": "__notebook__.ipynb",
   "parameters": {},
   "start_time": "2025-07-02T06:41:17.334732",
   "version": "2.6.0"
  }
 },
 "nbformat": 4,
 "nbformat_minor": 5
}
